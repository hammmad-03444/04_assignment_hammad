{
  "nbformat": 4,
  "nbformat_minor": 0,
  "metadata": {
    "colab": {
      "provenance": [],
      "authorship_tag": "ABX9TyNcHngDrvbI2zE9Uix9emWp",
      "include_colab_link": true
    },
    "kernelspec": {
      "name": "python3",
      "display_name": "Python 3"
    },
    "language_info": {
      "name": "python"
    }
  },
  "cells": [
    {
      "cell_type": "markdown",
      "metadata": {
        "id": "view-in-github",
        "colab_type": "text"
      },
      "source": [
        "<a href=\"https://colab.research.google.com/github/hammmad-03444/04_assignment_hammad/blob/main/02_lists/07_get_list.ipynb\" target=\"_parent\"><img src=\"https://colab.research.google.com/assets/colab-badge.svg\" alt=\"Open In Colab\"/></a>"
      ]
    },
    {
      "cell_type": "code",
      "execution_count": null,
      "metadata": {
        "colab": {
          "base_uri": "https://localhost:8080/"
        },
        "id": "txx5hQEXQgWy",
        "outputId": "98bf6d5d-058a-491f-b553-7cad926a3539"
      },
      "outputs": [
        {
          "output_type": "stream",
          "name": "stdout",
          "text": [
            "Enter items of list one by one or press enter to exitbanana\n",
            "Enter items of list one by one or press enter to exitgrapes\n",
            "Enter items of list one by one or press enter to exit\n",
            "['banana', 'grapes']\n"
          ]
        }
      ],
      "source": [
        "\n",
        "def get_list(lst):\n",
        "  if lst:\n",
        "    print(lst)\n",
        "  else:\n",
        "    print(\"list not found\")\n",
        "\n",
        "def get_input():\n",
        "  lst=[]\n",
        "  user_input:str=input(\"Enter items of list one by one or press enter to exit\")\n",
        "  while user_input != \"\":\n",
        "    lst.append(user_input)\n",
        "    user_input:str=input(\"Enter items of list one by one or press enter to exit\")\n",
        "  return lst\n",
        "\n",
        "def  main():\n",
        "  lst=get_input()\n",
        "  get_list(lst)\n",
        "\n",
        "if __name__ == \"__main__\":\n",
        "  main()"
      ]
    }
  ]
}