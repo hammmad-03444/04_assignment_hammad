{
  "nbformat": 4,
  "nbformat_minor": 0,
  "metadata": {
    "colab": {
      "provenance": [],
      "authorship_tag": "ABX9TyPanM2wTsJADRVjxKAxepBh",
      "include_colab_link": true
    },
    "kernelspec": {
      "name": "python3",
      "display_name": "Python 3"
    },
    "language_info": {
      "name": "python"
    }
  },
  "cells": [
    {
      "cell_type": "markdown",
      "metadata": {
        "id": "view-in-github",
        "colab_type": "text"
      },
      "source": [
        "<a href=\"https://colab.research.google.com/github/hammmad-03444/04_assignment_hammad/blob/main/02_lists/03_erase_canvas.ipynb\" target=\"_parent\"><img src=\"https://colab.research.google.com/assets/colab-badge.svg\" alt=\"Open In Colab\"/></a>"
      ]
    },
    {
      "cell_type": "code",
      "execution_count": null,
      "metadata": {
        "id": "bgovUZdSXwuC",
        "colab": {
          "base_uri": "https://localhost:8080/",
          "height": 418
        },
        "collapsed": true,
        "outputId": "0dea8f5c-1016-4adf-d5d0-47dab93f47cd"
      },
      "outputs": [
        {
          "output_type": "stream",
          "name": "stdout",
          "text": [
            "\u001b[31mERROR: Could not find a version that satisfies the requirement graphics (from versions: none)\u001b[0m\u001b[31m\n",
            "\u001b[0m\u001b[31mERROR: No matching distribution found for graphics\u001b[0m\u001b[31m\n",
            "\u001b[0m"
          ]
        },
        {
          "output_type": "error",
          "ename": "ModuleNotFoundError",
          "evalue": "No module named 'graphics'",
          "traceback": [
            "\u001b[0;31m---------------------------------------------------------------------------\u001b[0m",
            "\u001b[0;31mModuleNotFoundError\u001b[0m                       Traceback (most recent call last)",
            "\u001b[0;32m<ipython-input-3-5f37d61a6ccc>\u001b[0m in \u001b[0;36m<cell line: 0>\u001b[0;34m()\u001b[0m\n\u001b[1;32m      1\u001b[0m \u001b[0mget_ipython\u001b[0m\u001b[0;34m(\u001b[0m\u001b[0;34m)\u001b[0m\u001b[0;34m.\u001b[0m\u001b[0msystem\u001b[0m\u001b[0;34m(\u001b[0m\u001b[0;34m'pip install graphics'\u001b[0m\u001b[0;34m)\u001b[0m\u001b[0;34m\u001b[0m\u001b[0;34m\u001b[0m\u001b[0m\n\u001b[0;32m----> 2\u001b[0;31m \u001b[0;32mfrom\u001b[0m \u001b[0mgraphics\u001b[0m \u001b[0;32mimport\u001b[0m \u001b[0mCanvas\u001b[0m\u001b[0;34m\u001b[0m\u001b[0;34m\u001b[0m\u001b[0m\n\u001b[0m\u001b[1;32m      3\u001b[0m \u001b[0;32mimport\u001b[0m \u001b[0mtime\u001b[0m\u001b[0;34m\u001b[0m\u001b[0;34m\u001b[0m\u001b[0m\n\u001b[1;32m      4\u001b[0m \u001b[0;34m\u001b[0m\u001b[0m\n\u001b[1;32m      5\u001b[0m \u001b[0mCANVAS_WIDTH\u001b[0m\u001b[0;34m:\u001b[0m\u001b[0mint\u001b[0m\u001b[0;34m=\u001b[0m\u001b[0;36m400\u001b[0m\u001b[0;34m\u001b[0m\u001b[0;34m\u001b[0m\u001b[0m\n",
            "\u001b[0;31mModuleNotFoundError\u001b[0m: No module named 'graphics'",
            "",
            "\u001b[0;31m---------------------------------------------------------------------------\u001b[0;32m\nNOTE: If your import is failing due to a missing package, you can\nmanually install dependencies using either !pip or !apt.\n\nTo view examples of installing some common dependencies, click the\n\"Open Examples\" button below.\n\u001b[0;31m---------------------------------------------------------------------------\u001b[0m\n"
          ],
          "errorDetails": {
            "actions": [
              {
                "action": "open_url",
                "actionText": "Open Examples",
                "url": "/notebooks/snippets/importing_libraries.ipynb"
              }
            ]
          }
        }
      ],
      "source": [
        "\n",
        "from graphics import Canvas\n",
        "import time\n",
        "\n",
        "CANVAS_WIDTH:int=400\n",
        "CANVAS_HEIGHT:int=400\n",
        "\n",
        "CELL_SIZE:int=40\n",
        "ERASER_SIZE:int=20\n",
        "\n",
        "def erase_objects(canvas,eraser):\n",
        "  '''Erase objects in contact with the eraser'''\n",
        "  mouse_x=canvas.get_mouse_x()\n",
        "  mouse_y=canvas.get_mouse_y()\n",
        "\n",
        "  #calculate where our eraser is\n",
        "  left_x=mouse_x\n",
        "  top_y=mouse_y\n",
        "  right_x=mouse_x+ERASER_SIZE\n",
        "  bottom_y=mouse_y+ERASER_SIZE\n",
        "\n",
        "   # Find things that overlap with our eraser\n",
        "  overlapping_objects=canvas.find_overlapping(left_x,top_y,right_x,bottom_y)\n",
        "\n",
        "    # For everything that overlaps with our eraser (that isn't our eraser), change\n",
        "    # its color to white\n",
        "\n",
        "  for overlapping_object in overlapping_objects:\n",
        "      if overlapping_object != eraser:\n",
        "        canvas.set_color(overlapping_object,'white')\n",
        "\n",
        "\n",
        "def main():\n",
        "  canvas=Canvas(CANVAS_WIDTH,CANVAS_HEIGHT)\n",
        "  no_of_rows=CANVAS_HEIGHT//CELL_SIZE\n",
        "  no_of_cols=CANVAS_WIDTH//CELL_SIZE\n",
        "\n",
        "  # Make a grid of squares based on the number of rows and columns.\n",
        "    # The rows and columns along with our cell size help determine where\n",
        "    # each individual cell belongs in our grid!\n",
        "  for row in range(no_of_rows):\n",
        "    for col in range(no_of_cols):\n",
        "      left_x=col*CELL_SIZE\n",
        "      top_y=row*CELL_SIZE\n",
        "      right_x=left_x+CELL_SIZE\n",
        "      bottom_y=top_y+CELL_SIZE\n",
        "\n",
        "      cell=canvas.create_rectangle(left_x,top_y,right_x,bottom_y,'blue')\n",
        "\n",
        "\n",
        "  canvas.wait_for_click()\n",
        "  last_click_x,last_click_y=canvas.get_last_click()\n",
        "\n",
        "  eraser=canvas.create_rectangle(last_click_x,last_click_y,last_click_x+ERASER_SIZE,last_click_y+ERASER_SIZE,'red')\n",
        "\n",
        "  while true:\n",
        "    mouse_x=canvas.get_mouse_x()\n",
        "    mouse_y=canvas.get_mouse_y()\n",
        "    canvas.moveto(eraser,mouse_x,mouse_y)\n",
        "    erase_objects(canvas,eraser)\n",
        "    time.sleep(0.05)\n",
        "\n",
        "\n",
        "if __name__=='__main__':\n",
        "  main()\n",
        "\n"
      ]
    }
  ]
}