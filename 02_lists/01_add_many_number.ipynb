{
  "nbformat": 4,
  "nbformat_minor": 0,
  "metadata": {
    "colab": {
      "provenance": [],
      "authorship_tag": "ABX9TyN5rGuVujpxQMCRpg4iCBu5",
      "include_colab_link": true
    },
    "kernelspec": {
      "name": "python3",
      "display_name": "Python 3"
    },
    "language_info": {
      "name": "python"
    }
  },
  "cells": [
    {
      "cell_type": "markdown",
      "metadata": {
        "id": "view-in-github",
        "colab_type": "text"
      },
      "source": [
        "<a href=\"https://colab.research.google.com/github/hammmad-03444/04_assignment_hammad/blob/main/02_lists/01_add_many_number.ipynb\" target=\"_parent\"><img src=\"https://colab.research.google.com/assets/colab-badge.svg\" alt=\"Open In Colab\"/></a>"
      ]
    },
    {
      "cell_type": "code",
      "execution_count": 2,
      "metadata": {
        "colab": {
          "base_uri": "https://localhost:8080/"
        },
        "id": "VL0-racHyusS",
        "outputId": "5107cb3c-d76f-44d5-90e4-23e7fc6bcb63"
      },
      "outputs": [
        {
          "output_type": "stream",
          "name": "stdout",
          "text": [
            "30\n"
          ]
        }
      ],
      "source": [
        "def add_many_number(numbers):\n",
        "  total_so_far:int=0\n",
        "  for number in numbers:\n",
        "    total_so_far+=number\n",
        "  return total_so_far\n",
        "\n",
        "def main():\n",
        "  numbers:list[int]=[5,4,3,2,8,7,1]\n",
        "  result=add_many_number(numbers)\n",
        "  print(result)\n",
        "\n",
        "if __name__==\"__main__\":\n",
        "  main()"
      ]
    }
  ]
}