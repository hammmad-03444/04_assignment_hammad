{
  "nbformat": 4,
  "nbformat_minor": 0,
  "metadata": {
    "colab": {
      "provenance": [],
      "authorship_tag": "ABX9TyMOT72e0b/U08Gharu8xgGf",
      "include_colab_link": true
    },
    "kernelspec": {
      "name": "python3",
      "display_name": "Python 3"
    },
    "language_info": {
      "name": "python"
    }
  },
  "cells": [
    {
      "cell_type": "markdown",
      "metadata": {
        "id": "view-in-github",
        "colab_type": "text"
      },
      "source": [
        "<a href=\"https://colab.research.google.com/github/hammmad-03444/04_assignment_hammad/blob/main/02_lists/08_shorten.ipynb\" target=\"_parent\"><img src=\"https://colab.research.google.com/assets/colab-badge.svg\" alt=\"Open In Colab\"/></a>"
      ]
    },
    {
      "cell_type": "code",
      "execution_count": 5,
      "metadata": {
        "colab": {
          "base_uri": "https://localhost:8080/"
        },
        "id": "2b8gDOvSwFr0",
        "outputId": "805ed235-b5b9-4d99-c4b5-3551b24dedd9"
      },
      "outputs": [
        {
          "output_type": "stream",
          "name": "stdout",
          "text": [
            "Enter the item of list or press  enter to exit banana\n",
            "Enter the item of list or press  enter to exit apple\n",
            "Enter the item of list or press  enter to exit mango\n",
            "Enter the item of list or press  enter to exit grapes\n",
            "Enter the item of list or press  enter to exit orange\n",
            "Enter the item of list or press  enter to exit \n",
            "orange\n",
            "grapes\n",
            "['banana', 'apple', 'mango']\n"
          ]
        }
      ],
      "source": [
        "MAX_LENGTH=3\n",
        "\n",
        "def shorten_list(lst):\n",
        "  while len(lst) > MAX_LENGTH:\n",
        "   ele=lst.pop()\n",
        "   print(ele)\n",
        "\n",
        "def get_list():\n",
        "  lst=[]\n",
        "  user_input:str=input(\"Enter the item of list or press  enter to exit \")\n",
        "  while user_input != \"\":\n",
        "    lst.append(user_input)\n",
        "    user_input=input(\"Enter the item of list or press  enter to exit \")\n",
        "  return lst\n",
        "\n",
        "def main():\n",
        "  lst=get_list()\n",
        "  shorten_list(lst)\n",
        "  print(lst)\n",
        "\n",
        "if __name__==\"__main__\":\n",
        "  main()\n",
        "\n",
        "\n",
        ""
      ]
    }
  ]
}