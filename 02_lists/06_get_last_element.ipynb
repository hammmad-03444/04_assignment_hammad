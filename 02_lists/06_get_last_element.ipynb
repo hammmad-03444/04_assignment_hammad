{
  "nbformat": 4,
  "nbformat_minor": 0,
  "metadata": {
    "colab": {
      "provenance": [],
      "authorship_tag": "ABX9TyO2hDht7giBygFNAm7Ispl/",
      "include_colab_link": true
    },
    "kernelspec": {
      "name": "python3",
      "display_name": "Python 3"
    },
    "language_info": {
      "name": "python"
    }
  },
  "cells": [
    {
      "cell_type": "markdown",
      "metadata": {
        "id": "view-in-github",
        "colab_type": "text"
      },
      "source": [
        "<a href=\"https://colab.research.google.com/github/hammmad-03444/04_assignment_hammad/blob/main/02_lists/06_get_last_element.ipynb\" target=\"_parent\"><img src=\"https://colab.research.google.com/assets/colab-badge.svg\" alt=\"Open In Colab\"/></a>"
      ]
    },
    {
      "cell_type": "code",
      "execution_count": 3,
      "metadata": {
        "colab": {
          "base_uri": "https://localhost:8080/"
        },
        "id": "R0X4b7gH2AI4",
        "outputId": "a1e7e146-736f-4dd3-dc0a-241bc9f610de"
      },
      "outputs": [
        {
          "output_type": "stream",
          "name": "stdout",
          "text": [
            "Enter the item or press enter to exitzeebra\n",
            "Enter the item or press enter to exitelephant\n",
            "Enter the item or press enter to exitcrocodile\n",
            "Enter the item or press enter to exit\n",
            "crocodile\n"
          ]
        }
      ],
      "source": [
        "def get_last_element(lst):\n",
        "  if lst:\n",
        "    print(lst[-1])\n",
        "  else:\n",
        "    print(\"list is empty\")\n",
        "\n",
        "def  get_input():\n",
        "  lst:str=[]\n",
        "  user_input:str=input(\"Enter the item or press enter to exit\")\n",
        "  while user_input != \"\":\n",
        "    lst.append(user_input)\n",
        "    user_input=input(\"Enter the item or press enter to exit\")\n",
        "  return lst\n",
        "\n",
        "def main():\n",
        " lst=get_input()\n",
        " get_last_element(lst)\n",
        "\n",
        "if __name__ == \"__main__\":\n",
        "  main()"
      ]
    }
  ]
}