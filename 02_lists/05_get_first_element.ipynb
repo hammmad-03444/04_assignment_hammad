{
  "nbformat": 4,
  "nbformat_minor": 0,
  "metadata": {
    "colab": {
      "provenance": [],
      "authorship_tag": "ABX9TyNIpnPp5tNXL1hamTJDz7qM",
      "include_colab_link": true
    },
    "kernelspec": {
      "name": "python3",
      "display_name": "Python 3"
    },
    "language_info": {
      "name": "python"
    }
  },
  "cells": [
    {
      "cell_type": "markdown",
      "metadata": {
        "id": "view-in-github",
        "colab_type": "text"
      },
      "source": [
        "<a href=\"https://colab.research.google.com/github/hammmad-03444/04_assignment_hammad/blob/main/02_lists/05_get_first_element.ipynb\" target=\"_parent\"><img src=\"https://colab.research.google.com/assets/colab-badge.svg\" alt=\"Open In Colab\"/></a>"
      ]
    },
    {
      "cell_type": "code",
      "execution_count": 1,
      "metadata": {
        "colab": {
          "base_uri": "https://localhost:8080/"
        },
        "id": "z1dvZT7PicTq",
        "outputId": "ccad0482-5175-4b4c-82c3-b9073ff4b362"
      },
      "outputs": [
        {
          "output_type": "stream",
          "name": "stdout",
          "text": [
            "Please enter the  item for the list or press enter to exit bnanana\n",
            "Please enter the  item for the list or press enter to exit apple\n",
            "Please enter the  item for the list or press enter to exit \n",
            "bnanana\n"
          ]
        }
      ],
      "source": [
        "\n",
        "\n",
        "def get_first_element(lst):\n",
        "     if lst:\n",
        "      print(lst[0])\n",
        "     else:\n",
        "      print(\"list is empty\")\n",
        "\n",
        "def get_input():\n",
        "  lst=[]\n",
        "  user_input:str=input(\"Please enter the  item for the list or press enter to exit \")\n",
        "  while user_input != \"\":\n",
        "    lst.append(user_input)\n",
        "    user_input:str=input(\"Please enter the  item for the list or press enter to exit \")\n",
        "  return lst\n",
        "\n",
        "def main():\n",
        "  lst=get_input()\n",
        "  get_first_element(lst)\n",
        "\n",
        "if  __name__ == \"__main__\":\n",
        "  main()\n",
        "\n",
        "\n",
        "\n",
        "\n"
      ]
    }
  ]
}