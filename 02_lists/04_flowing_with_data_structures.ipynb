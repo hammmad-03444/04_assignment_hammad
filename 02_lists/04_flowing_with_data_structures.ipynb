{
  "nbformat": 4,
  "nbformat_minor": 0,
  "metadata": {
    "colab": {
      "provenance": [],
      "authorship_tag": "ABX9TyPGgonT6Z/L1Wl0QDRFq0q5",
      "include_colab_link": true
    },
    "kernelspec": {
      "name": "python3",
      "display_name": "Python 3"
    },
    "language_info": {
      "name": "python"
    }
  },
  "cells": [
    {
      "cell_type": "markdown",
      "metadata": {
        "id": "view-in-github",
        "colab_type": "text"
      },
      "source": [
        "<a href=\"https://colab.research.google.com/github/hammmad-03444/04_assignment_hammad/blob/main/02_lists/04_flowing_with_data_structures.ipynb\" target=\"_parent\"><img src=\"https://colab.research.google.com/assets/colab-badge.svg\" alt=\"Open In Colab\"/></a>"
      ]
    },
    {
      "cell_type": "code",
      "execution_count": 1,
      "metadata": {
        "colab": {
          "base_uri": "https://localhost:8080/"
        },
        "id": "QgdBBZfzoNCO",
        "outputId": "4f677fec-5cb1-42a9-dc7a-2af4e246c9ba"
      },
      "outputs": [
        {
          "output_type": "stream",
          "name": "stdout",
          "text": [
            "Enter some data: hello world\n",
            "list before []\n",
            "list after ['hello world', 'hello world', 'hello world']\n"
          ]
        }
      ],
      "source": [
        "\n",
        "def add_three_copies(my_list,data):\n",
        "  for i in range(3):\n",
        "    my_list.append(data)\n",
        "  return my_list\n",
        "\n",
        "def main():\n",
        "  data:str=input(\"Enter some data: \")\n",
        "  my_list=[]\n",
        "  print(f\"list before {my_list}\")\n",
        "  add_three_copies(my_list,data)\n",
        "  print(f\"list after {my_list}\")\n",
        "\n",
        "if __name__==\"__main__\":\n",
        "  main()\n"
      ]
    }
  ]
}