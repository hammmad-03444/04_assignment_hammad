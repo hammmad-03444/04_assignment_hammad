{
  "nbformat": 4,
  "nbformat_minor": 0,
  "metadata": {
    "colab": {
      "provenance": [],
      "authorship_tag": "ABX9TyMX2NPZKURaH9KLR4B2E14X",
      "include_colab_link": true
    },
    "kernelspec": {
      "name": "python3",
      "display_name": "Python 3"
    },
    "language_info": {
      "name": "python"
    }
  },
  "cells": [
    {
      "cell_type": "markdown",
      "metadata": {
        "id": "view-in-github",
        "colab_type": "text"
      },
      "source": [
        "<a href=\"https://colab.research.google.com/github/hammmad-03444/04_assignment_hammad/blob/main/03_if_statements/05_random_numbers.ipynb\" target=\"_parent\"><img src=\"https://colab.research.google.com/assets/colab-badge.svg\" alt=\"Open In Colab\"/></a>"
      ]
    },
    {
      "cell_type": "code",
      "execution_count": 4,
      "metadata": {
        "colab": {
          "base_uri": "https://localhost:8080/"
        },
        "id": "4xEpRNid1t9B",
        "outputId": "b68073e3-5ebe-44ca-c017-ad562d52a8e8"
      },
      "outputs": [
        {
          "output_type": "stream",
          "name": "stdout",
          "text": [
            "[28, 7, 14, 47, 38, 33, 60, 64, 81, 60]\n"
          ]
        }
      ],
      "source": [
        "from IPython import get_ipython\n",
        "from IPython.display import display\n",
        "# %%\n",
        "# !pip install random # This line is not needed as 'random' is a built-in module\n",
        "import random # Import the random module\n",
        "def main():\n",
        "  value=[random.randint(1,100)for _ in range(10)]\n",
        "  print(value)\n",
        "\n",
        "if __name__==\"__main__\":\n",
        "  main()"
      ]
    }
  ]
}