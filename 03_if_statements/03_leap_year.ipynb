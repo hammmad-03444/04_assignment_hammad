{
  "nbformat": 4,
  "nbformat_minor": 0,
  "metadata": {
    "colab": {
      "provenance": [],
      "authorship_tag": "ABX9TyOJSYZRODpXvuzsMV2yW6ul",
      "include_colab_link": true
    },
    "kernelspec": {
      "name": "python3",
      "display_name": "Python 3"
    },
    "language_info": {
      "name": "python"
    }
  },
  "cells": [
    {
      "cell_type": "markdown",
      "metadata": {
        "id": "view-in-github",
        "colab_type": "text"
      },
      "source": [
        "<a href=\"https://colab.research.google.com/github/hammmad-03444/04_assignment_hammad/blob/main/03_if_statements/03_leap_year.ipynb\" target=\"_parent\"><img src=\"https://colab.research.google.com/assets/colab-badge.svg\" alt=\"Open In Colab\"/></a>"
      ]
    },
    {
      "cell_type": "code",
      "source": [
        "def main():\n",
        "  user_input:int=int(input(\"Enter the year \"))\n",
        "  if  user_input%4==0:\n",
        "    if user_input%100==0:\n",
        "      if user_input%400==0:\n",
        "        print(\"That's a leap year!\")\n",
        "      else:\n",
        "        print(\"That's not a leap year!\")\n",
        "    else:\n",
        "      print(\"That's a leap year!\")\n",
        "  else:\n",
        "    print(\"That's not a leap year!\")\n",
        "\n",
        "if __name__ == \"__main__\":\n",
        "  main()\n",
        ""
      ],
      "metadata": {
        "colab": {
          "base_uri": "https://localhost:8080/"
        },
        "id": "Pnduj45sbFfN",
        "outputId": "b52c6036-9bad-4cd4-9c8c-573d66eef5a6"
      },
      "execution_count": 1,
      "outputs": [
        {
          "output_type": "stream",
          "name": "stdout",
          "text": [
            "Enter the year 5555\n",
            "That's not a leap year!\n"
          ]
        }
      ]
    }
  ]
}