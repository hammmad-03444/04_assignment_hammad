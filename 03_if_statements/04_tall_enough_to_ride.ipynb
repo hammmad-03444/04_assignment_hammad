{
  "nbformat": 4,
  "nbformat_minor": 0,
  "metadata": {
    "colab": {
      "provenance": [],
      "authorship_tag": "ABX9TyMZhNObBHRfwIAIrMSkP+M6",
      "include_colab_link": true
    },
    "kernelspec": {
      "name": "python3",
      "display_name": "Python 3"
    },
    "language_info": {
      "name": "python"
    }
  },
  "cells": [
    {
      "cell_type": "markdown",
      "metadata": {
        "id": "view-in-github",
        "colab_type": "text"
      },
      "source": [
        "<a href=\"https://colab.research.google.com/github/hammmad-03444/04_assignment_hammad/blob/main/03_if_statements/04_tall_enough_to_ride.ipynb\" target=\"_parent\"><img src=\"https://colab.research.google.com/assets/colab-badge.svg\" alt=\"Open In Colab\"/></a>"
      ]
    },
    {
      "cell_type": "code",
      "execution_count": 1,
      "metadata": {
        "colab": {
          "base_uri": "https://localhost:8080/"
        },
        "id": "HHJQdcfLeIZ7",
        "outputId": "ed197ac3-255f-4cc3-e231-3d3e763fedca"
      },
      "outputs": [
        {
          "output_type": "stream",
          "name": "stdout",
          "text": [
            "Enter your height please: 49\n",
            "You're not tall enough to ride! but maybe next year!\n"
          ]
        }
      ],
      "source": [
        "def main():\n",
        "  height:int=int(input('Enter your height please: '))\n",
        "  if height>=50:\n",
        "    print(\"You're tall enough to ride!\")\n",
        "  else:\n",
        "    print(\"You're not tall enough to ride! but maybe next year!\")\n",
        "\n",
        "if __name__ == \"__main__\":\n",
        "  main()"
      ]
    }
  ]
}