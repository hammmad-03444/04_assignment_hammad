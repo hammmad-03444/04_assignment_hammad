{
  "nbformat": 4,
  "nbformat_minor": 0,
  "metadata": {
    "colab": {
      "provenance": [],
      "authorship_tag": "ABX9TyM1Lb7PRhIUxIUdz+/sRItL",
      "include_colab_link": true
    },
    "kernelspec": {
      "name": "python3",
      "display_name": "Python 3"
    },
    "language_info": {
      "name": "python"
    }
  },
  "cells": [
    {
      "cell_type": "markdown",
      "metadata": {
        "id": "view-in-github",
        "colab_type": "text"
      },
      "source": [
        "<a href=\"https://colab.research.google.com/github/hammmad-03444/04_assignment_hammad/blob/main/06_functions/00_averages.ipynb\" target=\"_parent\"><img src=\"https://colab.research.google.com/assets/colab-badge.svg\" alt=\"Open In Colab\"/></a>"
      ]
    },
    {
      "cell_type": "code",
      "execution_count": 3,
      "metadata": {
        "colab": {
          "base_uri": "https://localhost:8080/"
        },
        "id": "YVgeJQDZHCPy",
        "outputId": "14a49dd2-65a6-41ae-e988-bd2591ff0f5a"
      },
      "outputs": [
        {
          "output_type": "stream",
          "name": "stdout",
          "text": [
            "5.0\n",
            "7.5\n",
            "6.25\n"
          ]
        }
      ],
      "source": [
        "def avg(num1:int,num2:int):\n",
        "  return (num1+num2)/2\n",
        "\n",
        "\n",
        "def main():\n",
        "  avg1=avg(2,8)\n",
        "  avg2=avg(9,6)\n",
        "  final_avg=avg(avg1,avg2)\n",
        "\n",
        "  print(avg1)\n",
        "  print(avg2)\n",
        "  print(final_avg)\n",
        "\n",
        "if __name__==\"__main__\":\n",
        "  main()\n"
      ]
    }
  ]
}