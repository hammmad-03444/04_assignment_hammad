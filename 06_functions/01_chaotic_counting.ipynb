{
  "nbformat": 4,
  "nbformat_minor": 0,
  "metadata": {
    "colab": {
      "provenance": [],
      "authorship_tag": "ABX9TyNkrf5PexQ19wXD20uvh4NZ",
      "include_colab_link": true
    },
    "kernelspec": {
      "name": "python3",
      "display_name": "Python 3"
    },
    "language_info": {
      "name": "python"
    }
  },
  "cells": [
    {
      "cell_type": "markdown",
      "metadata": {
        "id": "view-in-github",
        "colab_type": "text"
      },
      "source": [
        "<a href=\"https://colab.research.google.com/github/hammmad-03444/04_assignment_hammad/blob/main/06_functions/01_chaotic_counting.ipynb\" target=\"_parent\"><img src=\"https://colab.research.google.com/assets/colab-badge.svg\" alt=\"Open In Colab\"/></a>"
      ]
    },
    {
      "cell_type": "code",
      "execution_count": 33,
      "metadata": {
        "colab": {
          "base_uri": "https://localhost:8080/"
        },
        "id": "AxQlGW6hQO0x",
        "outputId": "06983480-24e4-49bb-ed4a-16fc1edd56df"
      },
      "outputs": [
        {
          "output_type": "stream",
          "name": "stdout",
          "text": [
            "1\n",
            "2\n",
            "3\n",
            "4\n",
            "5\n",
            "I am done\n"
          ]
        }
      ],
      "source": [
        "import random\n",
        "\n",
        "def done():\n",
        "  num=random.random()\n",
        "  if num < 0.3:\n",
        "    return True\n",
        "  else:\n",
        "    return False\n",
        "\n",
        "def chaotic_counting():\n",
        "  for i in range(1,11):\n",
        "    if done():\n",
        "      return\n",
        "    print(i)\n",
        "\n",
        "\n",
        "def main():\n",
        "   chaotic_counting()\n",
        "   print(\"I am done!!\")\n",
        "\n",
        "main()\n"
      ]
    }
  ]
}