{
  "nbformat": 4,
  "nbformat_minor": 0,
  "metadata": {
    "colab": {
      "provenance": [],
      "authorship_tag": "ABX9TyNn8U/AnMGi7nPjxqcbld58",
      "include_colab_link": true
    },
    "kernelspec": {
      "name": "python3",
      "display_name": "Python 3"
    },
    "language_info": {
      "name": "python"
    }
  },
  "cells": [
    {
      "cell_type": "markdown",
      "metadata": {
        "id": "view-in-github",
        "colab_type": "text"
      },
      "source": [
        "<a href=\"https://colab.research.google.com/github/hammmad-03444/04_assignment_hammad/blob/main/06_functions/06_is_odd.ipynb\" target=\"_parent\"><img src=\"https://colab.research.google.com/assets/colab-badge.svg\" alt=\"Open In Colab\"/></a>"
      ]
    },
    {
      "cell_type": "code",
      "execution_count": 7,
      "metadata": {
        "colab": {
          "base_uri": "https://localhost:8080/"
        },
        "id": "KnMu1dafvqTE",
        "outputId": "12e78417-589c-4b0c-99a2-5096285ed6c0"
      },
      "outputs": [
        {
          "output_type": "stream",
          "name": "stdout",
          "text": [
            "0 is even\n",
            "1 is ood\n",
            "2 is even\n",
            "3 is ood\n",
            "4 is even\n",
            "5 is ood\n",
            "6 is even\n",
            "7 is ood\n",
            "8 is even\n",
            "9 is ood\n",
            "10 is even\n"
          ]
        }
      ],
      "source": [
        "def is_odd(i:int):\n",
        "  remainder=i%2\n",
        "  return remainder==1\n",
        "\n",
        "\n",
        "def main():\n",
        "  for i in range(11):\n",
        "    if is_odd(i):\n",
        "      print(i, \"is odd\")\n",
        "    else:\n",
        "      print(i, \"is even\")\n",
        "\n",
        "if __name__ == \"__main__\":\n",
        "  main()\n",
        ""
      ]
    }
  ]
}