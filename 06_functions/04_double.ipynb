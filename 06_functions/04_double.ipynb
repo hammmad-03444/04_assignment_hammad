{
  "nbformat": 4,
  "nbformat_minor": 0,
  "metadata": {
    "colab": {
      "provenance": [],
      "authorship_tag": "ABX9TyMWblwQc5fB4KRodJwyFApm",
      "include_colab_link": true
    },
    "kernelspec": {
      "name": "python3",
      "display_name": "Python 3"
    },
    "language_info": {
      "name": "python"
    }
  },
  "cells": [
    {
      "cell_type": "markdown",
      "metadata": {
        "id": "view-in-github",
        "colab_type": "text"
      },
      "source": [
        "<a href=\"https://colab.research.google.com/github/hammmad-03444/04_assignment_hammad/blob/main/06_functions/04_double.ipynb\" target=\"_parent\"><img src=\"https://colab.research.google.com/assets/colab-badge.svg\" alt=\"Open In Colab\"/></a>"
      ]
    },
    {
      "cell_type": "code",
      "execution_count": 1,
      "metadata": {
        "colab": {
          "base_uri": "https://localhost:8080/"
        },
        "id": "fvVg99IIrRwd",
        "outputId": "201c606b-2255-41ff-d94c-0d68917b311b"
      },
      "outputs": [
        {
          "output_type": "stream",
          "name": "stdout",
          "text": [
            "Enter the number to double it 5\n",
            "The double is 10\n"
          ]
        }
      ],
      "source": [
        "def double(num):\n",
        "  if num != 0:\n",
        "    num*=2\n",
        "  print(f\"The double is {num}\")\n",
        "\n",
        "def main():\n",
        "  num=input(\"Enter the number to double it \")\n",
        "  double(int(num))\n",
        "\n",
        "if __name__ == \"__main__\":\n",
        "  main()"
      ]
    }
  ]
}