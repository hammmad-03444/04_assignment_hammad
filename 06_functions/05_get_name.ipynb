{
  "nbformat": 4,
  "nbformat_minor": 0,
  "metadata": {
    "colab": {
      "provenance": [],
      "authorship_tag": "ABX9TyNeXOSuUsqPjDzcgnfZS96B",
      "include_colab_link": true
    },
    "kernelspec": {
      "name": "python3",
      "display_name": "Python 3"
    },
    "language_info": {
      "name": "python"
    }
  },
  "cells": [
    {
      "cell_type": "markdown",
      "metadata": {
        "id": "view-in-github",
        "colab_type": "text"
      },
      "source": [
        "<a href=\"https://colab.research.google.com/github/hammmad-03444/04_assignment_hammad/blob/main/06_functions/05_get_name.ipynb\" target=\"_parent\"><img src=\"https://colab.research.google.com/assets/colab-badge.svg\" alt=\"Open In Colab\"/></a>"
      ]
    },
    {
      "cell_type": "code",
      "execution_count": 2,
      "metadata": {
        "colab": {
          "base_uri": "https://localhost:8080/"
        },
        "id": "ys45GKULuRm5",
        "outputId": "8050bf69-38d2-41e0-a060-9cb907945a0e"
      },
      "outputs": [
        {
          "output_type": "stream",
          "name": "stdout",
          "text": [
            "Enter your name here: hammad\n",
            "Howdy Hammad!🤠\n"
          ]
        }
      ],
      "source": [
        "def get_name():\n",
        "  name=input(\"Enter your name here: \")\n",
        "  return name.capitalize()\n",
        "\n",
        "def main():\n",
        "  user_name=get_name()\n",
        "  print(f\"Howdy {user_name}!🤠\")\n",
        "\n",
        "if __name__==\"__main__\":\n",
        "  main()"
      ]
    }
  ]
}