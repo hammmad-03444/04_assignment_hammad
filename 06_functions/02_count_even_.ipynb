{
  "nbformat": 4,
  "nbformat_minor": 0,
  "metadata": {
    "colab": {
      "provenance": [],
      "authorship_tag": "ABX9TyPb4QYi9o0PZ20erhJnsOGK",
      "include_colab_link": true
    },
    "kernelspec": {
      "name": "python3",
      "display_name": "Python 3"
    },
    "language_info": {
      "name": "python"
    }
  },
  "cells": [
    {
      "cell_type": "markdown",
      "metadata": {
        "id": "view-in-github",
        "colab_type": "text"
      },
      "source": [
        "<a href=\"https://colab.research.google.com/github/hammmad-03444/04_assignment_hammad/blob/main/06_functions/02_count_even_.ipynb\" target=\"_parent\"><img src=\"https://colab.research.google.com/assets/colab-badge.svg\" alt=\"Open In Colab\"/></a>"
      ]
    },
    {
      "cell_type": "code",
      "execution_count": 16,
      "metadata": {
        "colab": {
          "base_uri": "https://localhost:8080/"
        },
        "id": "o8iaWJilU51z",
        "outputId": "ac73380a-15e3-410e-d22b-a4857f35e9e6"
      },
      "outputs": [
        {
          "output_type": "stream",
          "name": "stdout",
          "text": [
            "Enter your numbers 7\n",
            "Enter your numbers 6\n",
            "Enter your numbers 8\n",
            "Enter your numbers 9\n",
            "Enter your numbers 0\n",
            "Enter your numbers \n",
            "3\n"
          ]
        }
      ],
      "source": [
        "def count_even(lst):\n",
        " count=0\n",
        " for num in lst:\n",
        "   if num %2 ==0:\n",
        "    count+=1\n",
        " print (count)\n",
        "\n",
        "def get_list_of_int():\n",
        "  lst=[]\n",
        "  prompt=input(\"Enter your numbers \")\n",
        "  while prompt != \"\":\n",
        "    lst.append(int(prompt))\n",
        "    prompt=input(\"Enter your numbers \")\n",
        "\n",
        "  return lst\n",
        "\n",
        "def main():\n",
        "  lst=get_list_of_int()\n",
        "  count_even(lst)\n",
        "\n",
        "\n",
        "if __name__ == \"__main__\":\n",
        "  main()\n",
        "\n",
        "\n"
      ]
    }
  ]
}