{
  "nbformat": 4,
  "nbformat_minor": 0,
  "metadata": {
    "colab": {
      "provenance": [],
      "authorship_tag": "ABX9TyNha2nvYpoUxr9JND8dcPbA",
      "include_colab_link": true
    },
    "kernelspec": {
      "name": "python3",
      "display_name": "Python 3"
    },
    "language_info": {
      "name": "python"
    }
  },
  "cells": [
    {
      "cell_type": "markdown",
      "metadata": {
        "id": "view-in-github",
        "colab_type": "text"
      },
      "source": [
        "<a href=\"https://colab.research.google.com/github/hammmad-03444/04_assignment_hammad/blob/main/05_loops_control_flow/03_wholesome_machine.ipynb\" target=\"_parent\"><img src=\"https://colab.research.google.com/assets/colab-badge.svg\" alt=\"Open In Colab\"/></a>"
      ]
    },
    {
      "cell_type": "code",
      "execution_count": 2,
      "metadata": {
        "colab": {
          "base_uri": "https://localhost:8080/"
        },
        "id": "G4i90CYWx4sx",
        "outputId": "f9977739-4773-4871-cc60-b29e601e378a"
      },
      "outputs": [
        {
          "output_type": "stream",
          "name": "stdout",
          "text": [
            "Please write down the the following Affirmation:I am capable of doing anything I put my mind to.\n",
            "I am capable of doing anything I put my mind to.\n",
            "That was the affirmation.\n"
          ]
        }
      ],
      "source": [
        "def main():\n",
        "  sentence=\"I am capable of doing anything I put my mind to.\"\n",
        "  print(f\"Please write down the the following Affirmation:{sentence}\")\n",
        "  user_input=input()\n",
        "  while user_input!=sentence:\n",
        "    print(\"That was not the affirmation.\")\n",
        "    print(f\"Please write down the the following Affirmation:{sentence}\")\n",
        "    user_input=input()\n",
        "  print(\"That was the affirmation.\")\n",
        "main()\n",
        "\n"
      ]
    }
  ]
}