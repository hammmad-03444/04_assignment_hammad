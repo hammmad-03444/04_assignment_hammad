{
  "nbformat": 4,
  "nbformat_minor": 0,
  "metadata": {
    "colab": {
      "provenance": [],
      "authorship_tag": "ABX9TyPWsypRUPj1gO18nfR/bZPY",
      "include_colab_link": true
    },
    "kernelspec": {
      "name": "python3",
      "display_name": "Python 3"
    },
    "language_info": {
      "name": "python"
    }
  },
  "cells": [
    {
      "cell_type": "markdown",
      "metadata": {
        "id": "view-in-github",
        "colab_type": "text"
      },
      "source": [
        "<a href=\"https://colab.research.google.com/github/hammmad-03444/04_assignment_hammad/blob/main/05_loops_control_flow/00_guess_my_number.ipynb\" target=\"_parent\"><img src=\"https://colab.research.google.com/assets/colab-badge.svg\" alt=\"Open In Colab\"/></a>"
      ]
    },
    {
      "cell_type": "code",
      "execution_count": 1,
      "metadata": {
        "colab": {
          "base_uri": "https://localhost:8080/"
        },
        "id": "8vfx7Pb3NFpg",
        "outputId": "6a5e6b05-9ad1-46d8-ba4f-7974b2c9de94"
      },
      "outputs": [
        {
          "output_type": "stream",
          "name": "stdout",
          "text": [
            "Guess the number:88\n",
            "Your guess is too high\n",
            "\n",
            "\n",
            "Guess again:44\n",
            "Your guess is too low\n",
            "\n",
            "\n",
            "Guess again:77\n",
            "Correct! you guest right 77\n"
          ]
        }
      ],
      "source": [
        "def main():\n",
        "  my_number=77\n",
        "  guess_number=int(input(\"Guess the number:\"))\n",
        "  while my_number!= guess_number:\n",
        "    if guess_number < my_number:  # If-statement is True if guess is less than secret number\n",
        "          print(\"Your guess is too low\")\n",
        "    else:\n",
        "          print(\"Your guess is too high\")\n",
        "\n",
        "    print() # Print an empty line to tidy up the console for new guesses\n",
        "    # guess = int(input(\"Enter a new guess: \"))  # Get a new guess from the userf\n",
        "    print() # Print an empty line to tidy up the console for new guesses\n",
        "    guess_number=int(input(\"Guess again:\"))\n",
        "  print(f\"Correct! you guest right {guess_number}\")\n",
        "main()\n"
      ]
    }
  ]
}