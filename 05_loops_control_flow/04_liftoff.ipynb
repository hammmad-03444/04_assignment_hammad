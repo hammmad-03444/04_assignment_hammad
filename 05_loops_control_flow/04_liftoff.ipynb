{
  "nbformat": 4,
  "nbformat_minor": 0,
  "metadata": {
    "colab": {
      "provenance": [],
      "authorship_tag": "ABX9TyNfq8S1d+Ob+dC2Kh18HE39",
      "include_colab_link": true
    },
    "kernelspec": {
      "name": "python3",
      "display_name": "Python 3"
    },
    "language_info": {
      "name": "python"
    }
  },
  "cells": [
    {
      "cell_type": "markdown",
      "metadata": {
        "id": "view-in-github",
        "colab_type": "text"
      },
      "source": [
        "<a href=\"https://colab.research.google.com/github/hammmad-03444/04_assignment_hammad/blob/main/05_loops_control_flow/04_liftoff.ipynb\" target=\"_parent\"><img src=\"https://colab.research.google.com/assets/colab-badge.svg\" alt=\"Open In Colab\"/></a>"
      ]
    },
    {
      "cell_type": "code",
      "execution_count": 9,
      "metadata": {
        "colab": {
          "base_uri": "https://localhost:8080/"
        },
        "id": "lgtbmvQT9tsT",
        "outputId": "d3f1fc80-16eb-4bc9-e489-ba7c64694b09"
      },
      "outputs": [
        {
          "output_type": "stream",
          "name": "stdout",
          "text": [
            "10\n",
            "9\n",
            "8\n",
            "7\n",
            "6\n",
            "5\n",
            "4\n",
            "3\n",
            "2\n",
            "1\n",
            "Liftoff!!\n"
          ]
        }
      ],
      "source": [
        "def main():\n",
        "  for i in range(10,0,-1):\n",
        "    print (i)\n",
        "    if i == 1:\n",
        "      print(\"Liftoff!!\")\n",
        "\n",
        "main()"
      ]
    }
  ]
}