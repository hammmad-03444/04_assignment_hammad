{
  "nbformat": 4,
  "nbformat_minor": 0,
  "metadata": {
    "colab": {
      "provenance": [],
      "authorship_tag": "ABX9TyMPgvkeLg/AMS5iPcobkUD9",
      "include_colab_link": true
    },
    "kernelspec": {
      "name": "python3",
      "display_name": "Python 3"
    },
    "language_info": {
      "name": "python"
    }
  },
  "cells": [
    {
      "cell_type": "markdown",
      "metadata": {
        "id": "view-in-github",
        "colab_type": "text"
      },
      "source": [
        "<a href=\"https://colab.research.google.com/github/hammmad-03444/04_assignment_hammad/blob/main/05_loops_control_flow/05_double_it.ipynb\" target=\"_parent\"><img src=\"https://colab.research.google.com/assets/colab-badge.svg\" alt=\"Open In Colab\"/></a>"
      ]
    },
    {
      "cell_type": "code",
      "execution_count": 7,
      "metadata": {
        "colab": {
          "base_uri": "https://localhost:8080/"
        },
        "id": "buVHRI5AB1ib",
        "outputId": "5707ee6f-80ef-493a-a069-8be1447bee5d"
      },
      "outputs": [
        {
          "output_type": "stream",
          "name": "stdout",
          "text": [
            "Input your number here: 5\n",
            "5\n",
            "10\n",
            "20\n",
            "40\n",
            "80\n"
          ]
        }
      ],
      "source": [
        "def main():\n",
        "  value=int(input(\"Input your number here: \"))\n",
        "  while value <= 100:\n",
        "    print(value)\n",
        "    value*=2\n",
        "\n",
        "\n",
        "main()"
      ]
    }
  ]
}