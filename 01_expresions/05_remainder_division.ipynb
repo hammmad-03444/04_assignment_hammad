{
  "nbformat": 4,
  "nbformat_minor": 0,
  "metadata": {
    "colab": {
      "provenance": [],
      "authorship_tag": "ABX9TyNAgF05ymxDvRYesC717U/v",
      "include_colab_link": true
    },
    "kernelspec": {
      "name": "python3",
      "display_name": "Python 3"
    },
    "language_info": {
      "name": "python"
    }
  },
  "cells": [
    {
      "cell_type": "markdown",
      "metadata": {
        "id": "view-in-github",
        "colab_type": "text"
      },
      "source": [
        "<a href=\"https://colab.research.google.com/github/hammmad-03444/04_assignment_hammad/blob/main/01_expresions/05_remainder_division.ipynb\" target=\"_parent\"><img src=\"https://colab.research.google.com/assets/colab-badge.svg\" alt=\"Open In Colab\"/></a>"
      ]
    },
    {
      "cell_type": "code",
      "execution_count": 1,
      "metadata": {
        "colab": {
          "base_uri": "https://localhost:8080/"
        },
        "id": "233W0hvZ0_9B",
        "outputId": "dab6aacc-f376-44ce-b92d-389db8a5f7ff"
      },
      "outputs": [
        {
          "output_type": "stream",
          "name": "stdout",
          "text": [
            "Enter first number:5\n",
            "Enter second number:2\n",
            "The result of this devision is 2.5 and the reminder is 1\n"
          ]
        }
      ],
      "source": [
        "def main():\n",
        "  num1:int=int(input(\"Enter first number:\"))\n",
        "  num2:int=int(input(\"Enter second number:\"))\n",
        "  div:float=num1/num2\n",
        "  rem:int=num1%num2\n",
        "  print(f\"The result of this devision is {div} and the reminder is {rem}\")\n",
        "\n",
        "if __name__==\"__main__\":\n",
        "  main()"
      ]
    }
  ]
}