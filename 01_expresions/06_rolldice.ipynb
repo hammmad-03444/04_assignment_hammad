{
  "nbformat": 4,
  "nbformat_minor": 0,
  "metadata": {
    "colab": {
      "provenance": [],
      "authorship_tag": "ABX9TyNBiFpn075MefWkuYk9dDJ/",
      "include_colab_link": true
    },
    "kernelspec": {
      "name": "python3",
      "display_name": "Python 3"
    },
    "language_info": {
      "name": "python"
    }
  },
  "cells": [
    {
      "cell_type": "markdown",
      "metadata": {
        "id": "view-in-github",
        "colab_type": "text"
      },
      "source": [
        "<a href=\"https://colab.research.google.com/github/hammmad-03444/04_assignment_hammad/blob/main/01_expresions/06_rolldice.ipynb\" target=\"_parent\"><img src=\"https://colab.research.google.com/assets/colab-badge.svg\" alt=\"Open In Colab\"/></a>"
      ]
    },
    {
      "cell_type": "code",
      "execution_count": 3,
      "metadata": {
        "colab": {
          "base_uri": "https://localhost:8080/"
        },
        "id": "H9malLpK9O9S",
        "outputId": "3af56323-a47f-4c59-8b1b-ecad9d6e2483"
      },
      "outputs": [
        {
          "output_type": "stream",
          "name": "stdout",
          "text": [
            "First Dice is 3, Second Dice is 6, and Total score  is 9\n"
          ]
        }
      ],
      "source": [
        "import random as r\n",
        "dice_side:int=6\n",
        "\n",
        "def main():\n",
        "\n",
        "  dice1:int=r.randint(1,dice_side)\n",
        "  dice2:int=r.randint(1,dice_side)\n",
        "  total:int=dice1+dice2\n",
        "  print(f\"First Dice is {dice1}, Second Dice is {dice2}, and Total score  is {total}\")\n",
        "\n",
        "if __name__==\"__main__\":\n",
        "  main()"
      ]
    }
  ]
}