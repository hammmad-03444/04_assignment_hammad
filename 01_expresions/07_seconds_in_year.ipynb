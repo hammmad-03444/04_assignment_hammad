{
  "nbformat": 4,
  "nbformat_minor": 0,
  "metadata": {
    "colab": {
      "provenance": [],
      "authorship_tag": "ABX9TyNpZ5Pr3QPWLynWLIzKFicr",
      "include_colab_link": true
    },
    "kernelspec": {
      "name": "python3",
      "display_name": "Python 3"
    },
    "language_info": {
      "name": "python"
    }
  },
  "cells": [
    {
      "cell_type": "markdown",
      "metadata": {
        "id": "view-in-github",
        "colab_type": "text"
      },
      "source": [
        "<a href=\"https://colab.research.google.com/github/hammmad-03444/04_assignment_hammad/blob/main/01_expresions/07_seconds_in_year.ipynb\" target=\"_parent\"><img src=\"https://colab.research.google.com/assets/colab-badge.svg\" alt=\"Open In Colab\"/></a>"
      ]
    },
    {
      "cell_type": "code",
      "execution_count": 2,
      "metadata": {
        "colab": {
          "base_uri": "https://localhost:8080/"
        },
        "id": "UTurnKhaA-n-",
        "outputId": "598b4dd4-0223-4265-d86b-4b2cceb4787e"
      },
      "outputs": [
        {
          "output_type": "stream",
          "name": "stdout",
          "text": [
            "There are 31536000 seconds in a year\n"
          ]
        }
      ],
      "source": [
        "Days_Per_year=365\n",
        "Hours_Per_Day=24\n",
        "Minutes_Per_Hour=60\n",
        "Seconds_Per_Minuts=60\n",
        "\n",
        "def main():\n",
        "\n",
        "  seconds_in_year=Days_Per_year*Hours_Per_Day*Minutes_Per_Hour*Seconds_Per_Minuts\n",
        "  print(f\"There are {seconds_in_year} seconds in a year\")\n",
        "\n",
        "\n",
        "if __name__ == \"__main__\":\n",
        "  main()\n",
        "\n"
      ]
    }
  ]
}