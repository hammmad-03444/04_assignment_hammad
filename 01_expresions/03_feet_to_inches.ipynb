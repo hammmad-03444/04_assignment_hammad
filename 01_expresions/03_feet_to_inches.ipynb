{
  "nbformat": 4,
  "nbformat_minor": 0,
  "metadata": {
    "colab": {
      "provenance": [],
      "authorship_tag": "ABX9TyPgSsAdTTuJmgqwF4xxpprf",
      "include_colab_link": true
    },
    "kernelspec": {
      "name": "python3",
      "display_name": "Python 3"
    },
    "language_info": {
      "name": "python"
    }
  },
  "cells": [
    {
      "cell_type": "markdown",
      "metadata": {
        "id": "view-in-github",
        "colab_type": "text"
      },
      "source": [
        "<a href=\"https://colab.research.google.com/github/hammmad-03444/04_assignment_hammad/blob/main/01_expresions/03_feet_to_inches.ipynb\" target=\"_parent\"><img src=\"https://colab.research.google.com/assets/colab-badge.svg\" alt=\"Open In Colab\"/></a>"
      ]
    },
    {
      "cell_type": "code",
      "execution_count": 1,
      "metadata": {
        "colab": {
          "base_uri": "https://localhost:8080/"
        },
        "id": "y5m6l2XqiJkf",
        "outputId": "ef9d0088-47d1-4a64-8d4a-4678e06663ae"
      },
      "outputs": [
        {
          "output_type": "stream",
          "name": "stdout",
          "text": [
            "Enter Feet to convert33\n",
            "There are 396 inches in 33 feet\n"
          ]
        }
      ],
      "source": [
        "def main():\n",
        "  feet:int=int(input(\"Enter Feet to convert\"))\n",
        "  inches:int=12*feet\n",
        "  print(f\"There are {inches} inches in {feet} feet\")\n",
        "\n",
        "\n",
        "if __name__ == \"__main__\":\n",
        "  main()"
      ]
    }
  ]
}