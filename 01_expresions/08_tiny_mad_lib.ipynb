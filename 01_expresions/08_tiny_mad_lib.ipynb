{
  "nbformat": 4,
  "nbformat_minor": 0,
  "metadata": {
    "colab": {
      "provenance": [],
      "authorship_tag": "ABX9TyNRgKYH2L/cNweNn1u+7OPB",
      "include_colab_link": true
    },
    "kernelspec": {
      "name": "python3",
      "display_name": "Python 3"
    },
    "language_info": {
      "name": "python"
    }
  },
  "cells": [
    {
      "cell_type": "markdown",
      "metadata": {
        "id": "view-in-github",
        "colab_type": "text"
      },
      "source": [
        "<a href=\"https://colab.research.google.com/github/hammmad-03444/04_assignment_hammad/blob/main/01_expresions/08_tiny_mad_lib.ipynb\" target=\"_parent\"><img src=\"https://colab.research.google.com/assets/colab-badge.svg\" alt=\"Open In Colab\"/></a>"
      ]
    },
    {
      "cell_type": "code",
      "execution_count": 3,
      "metadata": {
        "colab": {
          "base_uri": "https://localhost:8080/"
        },
        "id": "dIdAn500ddAu",
        "outputId": "c6d52bad-49e1-4f87-801c-4273dac95d71"
      },
      "outputs": [
        {
          "output_type": "stream",
          "name": "stdout",
          "text": [
            "Enter an adjective :tiny\n",
            "Enter a noun :plant\n",
            "Enter a verb :fly\n",
            "Panaversity is fun. I learned to program and used Python to make my tiny plant fly\n"
          ]
        }
      ],
      "source": [
        "SENTENCE_START: str = \"Panaversity is fun. I learned to program and used Python to make my \" # adjective noun verb\n",
        "\n",
        "def main():\n",
        "  adjective:str=str(input(\"Enter an adjective :\"))\n",
        "  noun:str=str(input(\"Enter a noun :\"))\n",
        "  verb:str=str(input(\"Enter a verb :\"))\n",
        "\n",
        "  print(f\"{SENTENCE_START}{adjective} {noun} {verb}\")\n",
        "\n",
        "if __name__=='__main__':\n",
        "  main()"
      ]
    }
  ]
}