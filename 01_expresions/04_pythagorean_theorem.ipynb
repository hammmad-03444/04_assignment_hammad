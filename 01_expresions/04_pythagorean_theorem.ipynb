{
  "nbformat": 4,
  "nbformat_minor": 0,
  "metadata": {
    "colab": {
      "provenance": [],
      "authorship_tag": "ABX9TyPygVc1wphFIDixOpBQs9c/",
      "include_colab_link": true
    },
    "kernelspec": {
      "name": "python3",
      "display_name": "Python 3"
    },
    "language_info": {
      "name": "python"
    }
  },
  "cells": [
    {
      "cell_type": "markdown",
      "metadata": {
        "id": "view-in-github",
        "colab_type": "text"
      },
      "source": [
        "<a href=\"https://colab.research.google.com/github/hammmad-03444/04_assignment_hammad/blob/main/01_expresions/04_pythagorean_theorem.ipynb\" target=\"_parent\"><img src=\"https://colab.research.google.com/assets/colab-badge.svg\" alt=\"Open In Colab\"/></a>"
      ]
    },
    {
      "cell_type": "code",
      "execution_count": 3,
      "metadata": {
        "colab": {
          "base_uri": "https://localhost:8080/"
        },
        "id": "TWU7cmKWxBBF",
        "outputId": "6e66d0a0-c2f3-4487-a0dd-8412ffb52601"
      },
      "outputs": [
        {
          "output_type": "stream",
          "name": "stdout",
          "text": [
            "Enter the lenght of AB 5\n",
            "Enter the lenght of AC 8\n",
            "The length of BC (Hypotinues) is 9.433981132056603\n"
          ]
        }
      ],
      "source": [
        "import math\n",
        "def main():\n",
        "  ab:float=float(input(\"Enter the lenght of AB \"))\n",
        "  ac:float=float(input(\"Enter the lenght of AC \"))\n",
        "\n",
        "  bc:float=math.sqrt(ab**2+ac**2)\n",
        "\n",
        "  print(f\"The length of BC (Hypotinues) is {bc}\")\n",
        "\n",
        "\n",
        "if __name__==\"__main__\":\n",
        "  main()"
      ]
    }
  ]
}