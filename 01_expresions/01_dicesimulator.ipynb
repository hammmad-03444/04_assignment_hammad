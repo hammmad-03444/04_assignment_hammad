{
  "nbformat": 4,
  "nbformat_minor": 0,
  "metadata": {
    "colab": {
      "provenance": [],
      "authorship_tag": "ABX9TyNY3Zce2ja2jDyhFyZrBMz3",
      "include_colab_link": true
    },
    "kernelspec": {
      "name": "python3",
      "display_name": "Python 3"
    },
    "language_info": {
      "name": "python"
    }
  },
  "cells": [
    {
      "cell_type": "markdown",
      "metadata": {
        "id": "view-in-github",
        "colab_type": "text"
      },
      "source": [
        "<a href=\"https://colab.research.google.com/github/hammmad-03444/04_assignment_hammad/blob/main/01_expresions/01_dicesimulator.ipynb\" target=\"_parent\"><img src=\"https://colab.research.google.com/assets/colab-badge.svg\" alt=\"Open In Colab\"/></a>"
      ]
    },
    {
      "cell_type": "code",
      "execution_count": 5,
      "metadata": {
        "colab": {
          "base_uri": "https://localhost:8080/"
        },
        "id": "q2FI7YEE2T7a",
        "outputId": "21602884-4c50-4a49-a5f9-09b73339c311"
      },
      "outputs": [
        {
          "output_type": "stream",
          "name": "stdout",
          "text": [
            "die1 in main() starts as: 10\n",
            "Total of two dice is 7\n",
            "Total of two dice is 8\n",
            "Total of two dice is 4\n",
            "die1 in main() is: 10\n"
          ]
        }
      ],
      "source": [
        "import random as r\n",
        "\n",
        "def roll_dice():\n",
        "  dice_side:int=6\n",
        "  dice_roll1:int=r.randint(1,dice_side)\n",
        "  dice_roll2:int=r.randint(1,dice_side)\n",
        "  total_score:int=dice_roll1+dice_roll2\n",
        "  print(f\"Total of two dice is {total_score}\")\n",
        "\n",
        "def main():\n",
        " dice_roll1=10\n",
        " print(f\"die1 in main() starts as: {dice_roll1}\")\n",
        " roll_dice()\n",
        " roll_dice()\n",
        " roll_dice()\n",
        " print(f\"die1 in main() is: {dice_roll1}\")\n",
        "\n",
        "\n",
        "if __name__==\"__main__\":\n",
        "  main()\n"
      ]
    }
  ]
}