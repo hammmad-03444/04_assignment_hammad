{
  "nbformat": 4,
  "nbformat_minor": 0,
  "metadata": {
    "colab": {
      "provenance": [],
      "authorship_tag": "ABX9TyOW6IogakGMf0MDFW8fhEF8",
      "include_colab_link": true
    },
    "kernelspec": {
      "name": "python3",
      "display_name": "Python 3"
    },
    "language_info": {
      "name": "python"
    }
  },
  "cells": [
    {
      "cell_type": "markdown",
      "metadata": {
        "id": "view-in-github",
        "colab_type": "text"
      },
      "source": [
        "<a href=\"https://colab.research.google.com/github/hammmad-03444/04_assignment_hammad/blob/main/01_expresions/02_e%3Dmc2_.ipynb\" target=\"_parent\"><img src=\"https://colab.research.google.com/assets/colab-badge.svg\" alt=\"Open In Colab\"/></a>"
      ]
    },
    {
      "cell_type": "code",
      "execution_count": 4,
      "metadata": {
        "colab": {
          "base_uri": "https://localhost:8080/"
        },
        "id": "3iCZtVUzXzKx",
        "outputId": "ce57cbf3-3d37-44fa-bfd5-a617baf3ffe6"
      },
      "outputs": [
        {
          "output_type": "stream",
          "name": "stdout",
          "text": [
            "Enter mass50\n",
            "4493775893684088200 joules of energy\n"
          ]
        }
      ],
      "source": [
        "c:int= 299792458\n",
        "\n",
        "def main():\n",
        "  m:int=int(input(\"Enter mass\"))\n",
        "  c:int= 299792458\n",
        "  e:float=m*(c**2)\n",
        "  print(f\"{e} joules of energy\")\n",
        "\n",
        "if __name__==\"__main__\":\n",
        "  main()"
      ]
    }
  ]
}