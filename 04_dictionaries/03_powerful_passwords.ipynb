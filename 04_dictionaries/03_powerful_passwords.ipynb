{
  "nbformat": 4,
  "nbformat_minor": 0,
  "metadata": {
    "colab": {
      "provenance": [],
      "authorship_tag": "ABX9TyOhd/2BO925Yoyl/lGth6xT",
      "include_colab_link": true
    },
    "kernelspec": {
      "name": "python3",
      "display_name": "Python 3"
    },
    "language_info": {
      "name": "python"
    }
  },
  "cells": [
    {
      "cell_type": "markdown",
      "metadata": {
        "id": "view-in-github",
        "colab_type": "text"
      },
      "source": [
        "<a href=\"https://colab.research.google.com/github/hammmad-03444/04_assignment_hammad/blob/main/04_dictionaries/03_powerful_passwords.ipynb\" target=\"_parent\"><img src=\"https://colab.research.google.com/assets/colab-badge.svg\" alt=\"Open In Colab\"/></a>"
      ]
    },
    {
      "cell_type": "code",
      "execution_count": 15,
      "metadata": {
        "colab": {
          "base_uri": "https://localhost:8080/"
        },
        "id": "e3zWm8A33CQJ",
        "outputId": "e4662fdb-2aee-4d6a-c2e1-cc0b0d1039ac"
      },
      "outputs": [
        {
          "output_type": "stream",
          "name": "stdout",
          "text": [
            "False\n",
            "True\n",
            "False\n",
            "True\n",
            "False\n",
            "True\n"
          ]
        }
      ],
      "source": [
        "from hashlib import sha256\n",
        "def login(email,stored_logins,password_to_check):\n",
        "  if stored_logins[email] == hash_password(password_to_check):\n",
        "    return True\n",
        "  return False\n",
        "def hash_password(password):\n",
        " return sha256(password.encode('utf-8')).hexdigest()\n",
        "\n",
        "def main():\n",
        "  stored_logins={\n",
        "      \"trick@gmail.com\":\"5e884898da28047151d0e56f8dc6292773603d0d6aabbdd62a11ef721d1542d8\",\n",
        "      \"example@gmail.com\":\"973607a4ae7b4cf7d96a100b0fb07e8519cc4f70441d41214a9f811577bb06cc\",\n",
        "      \"starter@gmail.com\":\"5e884898da28047151d0e56f8dc6292773603d0d6aabbdd62a11ef721d1542d8\"  # \"welcome\" ya \"password\" ka hash\n",
        "  }\n",
        "\n",
        "  print(login(\"trick@gmail.com\",stored_logins,\"dubai\"))\n",
        "  print(login(\"trick@gmail.com\",stored_logins,\"password\"))\n",
        "\n",
        "  print(login(\"example@gmail.com\",stored_logins,\"Karel\"))\n",
        "  print(login(\"example@gmail.com\",stored_logins,\"karel\"))\n",
        "\n",
        "  print(login(\"starter@gmail.com\",stored_logins,\"12345!6789\"))\n",
        "  print(login(\"starter@gmail.com\",stored_logins,\"password\"))\n",
        "\n",
        "if __name__ == \"__main__\":\n",
        "  main()\n",
        "\n"
      ]
    }
  ]
}