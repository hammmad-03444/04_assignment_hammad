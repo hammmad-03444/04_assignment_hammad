{
  "nbformat": 4,
  "nbformat_minor": 0,
  "metadata": {
    "colab": {
      "provenance": [],
      "authorship_tag": "ABX9TyOBUoMB9H9GVyb8Bz7/cxXZ",
      "include_colab_link": true
    },
    "kernelspec": {
      "name": "python3",
      "display_name": "Python 3"
    },
    "language_info": {
      "name": "python"
    }
  },
  "cells": [
    {
      "cell_type": "markdown",
      "metadata": {
        "id": "view-in-github",
        "colab_type": "text"
      },
      "source": [
        "<a href=\"https://colab.research.google.com/github/hammmad-03444/04_assignment_hammad/blob/main/04_dictionaries/02_pop_up_shop.ipynb\" target=\"_parent\"><img src=\"https://colab.research.google.com/assets/colab-badge.svg\" alt=\"Open In Colab\"/></a>"
      ]
    },
    {
      "cell_type": "code",
      "execution_count": 3,
      "metadata": {
        "colab": {
          "base_uri": "https://localhost:8080/"
        },
        "id": "iFUH3FpMprHg",
        "outputId": "6aee11eb-616a-4565-d74a-fa2bab7e165d"
      },
      "outputs": [
        {
          "output_type": "stream",
          "name": "stdout",
          "text": [
            "How many (apple) do you want? 2\n",
            "How many (jackfruit) do you want? 9\n",
            "How many (kiwi) do you want? 3\n",
            "How many (mango) do you want? 1\n",
            "How many (durian) do you want? 1\n",
            "How many (rambutan) do you want? 0\n",
            "Total price is 111\n"
          ]
        }
      ],
      "source": [
        "def main():\n",
        "  fruits_prices={\n",
        "      \"apple\":5,\n",
        "      \"jackfruit\":9,\n",
        "      \"kiwi\":3,\n",
        "      \"mango\":6,\n",
        "      \"durian\":5,\n",
        "      \"rambutan\":8\n",
        "  }\n",
        "  total_price=0\n",
        "  for fruits in fruits_prices:\n",
        "    question=input(f\"How many ({fruits}) do you want? \")\n",
        "    total_price+=fruits_prices[fruits]*int(question)\n",
        "  print(f\"Total price is {total_price}\")\n",
        "main()\n",
        "\n"
      ]
    }
  ]
}