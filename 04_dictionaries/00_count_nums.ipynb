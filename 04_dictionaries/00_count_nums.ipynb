{
  "cells": [
    {
      "cell_type": "markdown",
      "metadata": {
        "id": "view-in-github",
        "colab_type": "text"
      },
      "source": [
        "<a href=\"https://colab.research.google.com/github/hammmad-03444/04_assignment_hammad/blob/main/04_dictionaries/00_count_nums.ipynb\" target=\"_parent\"><img src=\"https://colab.research.google.com/assets/colab-badge.svg\" alt=\"Open In Colab\"/></a>"
      ]
    },
    {
      "cell_type": "code",
      "execution_count": 1,
      "metadata": {
        "colab": {
          "base_uri": "https://localhost:8080/"
        },
        "id": "W1ikLIUxgLiJ",
        "outputId": "ffccf3e7-fe83-4a03-a80a-3e3b75cf99ae"
      },
      "outputs": [
        {
          "output_type": "stream",
          "name": "stdout",
          "text": [
            "Enter a number please: 5\n",
            "Enter a number please: 9\n",
            "Enter a number please: 1\n",
            "Enter a number please: 2\n",
            "Enter a number please: 6\n",
            "Enter a number please: 5\n",
            "Enter a number please: 2\n",
            "Enter a number please: 1\n",
            "Enter a number please: \n",
            "5 is appeared 2 times\n",
            "9 is appeared 1 times\n",
            "1 is appeared 2 times\n",
            "2 is appeared 2 times\n",
            "6 is appeared 1 times\n"
          ]
        }
      ],
      "source": [
        "\n",
        "\n",
        "def  get_user_number():\n",
        "  user_num=[]\n",
        "  while True:\n",
        "    user_input=input(\"Enter a number please: \")\n",
        "    if user_input == \"\":\n",
        "      break\n",
        "    num = int(user_input)\n",
        "    user_num.append(num)\n",
        "  return  user_num\n",
        "\n",
        "def store_number(num_lst):\n",
        "  dictionary={}\n",
        "  for  num in  num_lst:\n",
        "    if num not in dictionary:\n",
        "      dictionary[num]=1\n",
        "    else:\n",
        "      dictionary[num]+=1\n",
        "  return dictionary\n",
        "\n",
        "def  print_numbers(dictionary):\n",
        "  for  num  in dictionary:\n",
        "   print(f\"{str(num)} is appeared {str(dictionary[num])} times\")\n",
        "\n",
        "def main():\n",
        "  user_input=get_user_number()\n",
        "  dictionary=store_number(user_input)\n",
        "  print_numbers(dictionary)\n",
        "\n",
        "if __name__==\"__main__\":\n",
        "   main()\n",
        "\n",
        "\n"
      ]
    },
    {
      "cell_type": "code",
      "source": [],
      "metadata": {
        "id": "ZHmz3Vc40J6c"
      },
      "execution_count": null,
      "outputs": []
    }
  ],
  "metadata": {
    "colab": {
      "provenance": [],
      "authorship_tag": "ABX9TyNCTRrjXYBKEfMLS799q0qo",
      "include_colab_link": true
    },
    "kernelspec": {
      "display_name": "Python 3",
      "name": "python3"
    },
    "language_info": {
      "name": "python"
    }
  },
  "nbformat": 4,
  "nbformat_minor": 0
}