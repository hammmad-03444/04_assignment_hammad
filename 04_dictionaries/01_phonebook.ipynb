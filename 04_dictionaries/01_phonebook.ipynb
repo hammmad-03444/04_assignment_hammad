{
  "nbformat": 4,
  "nbformat_minor": 0,
  "metadata": {
    "colab": {
      "provenance": [],
      "authorship_tag": "ABX9TyObYnfG/Z84ZSirCWCP/CH/",
      "include_colab_link": true
    },
    "kernelspec": {
      "name": "python3",
      "display_name": "Python 3"
    },
    "language_info": {
      "name": "python"
    }
  },
  "cells": [
    {
      "cell_type": "markdown",
      "metadata": {
        "id": "view-in-github",
        "colab_type": "text"
      },
      "source": [
        "<a href=\"https://colab.research.google.com/github/hammmad-03444/04_assignment_hammad/blob/main/04_dictionaries/01_phonebook.ipynb\" target=\"_parent\"><img src=\"https://colab.research.google.com/assets/colab-badge.svg\" alt=\"Open In Colab\"/></a>"
      ]
    },
    {
      "cell_type": "code",
      "execution_count": null,
      "metadata": {
        "colab": {
          "base_uri": "https://localhost:8080/"
        },
        "id": "ijz71ZgnyKMP",
        "outputId": "a935d3ec-3efd-4b45-9baa-0946d79595b0"
      },
      "outputs": [
        {
          "name": "stdout",
          "output_type": "stream",
          "text": [
            "Enter phone number please: 03444067494\n",
            "Enter name please: hammad\n",
            "Enter phone number please: \n",
            "hammad-->03444067494\n",
            "Enter name to search: hammad\n",
            "hammad-->03444067494\n",
            "Enter name to search: \n"
          ]
        }
      ],
      "source": [
        "def get_phone_num():\n",
        "  phonebook={}\n",
        "  while True:\n",
        "    number=input(\"Enter phone number please: \")\n",
        "    if number ==  \"\":\n",
        "      break\n",
        "    name=input(\"Enter name please: \")\n",
        "    phonebook[name]=number\n",
        "  return phonebook\n",
        "\n",
        "def print_phonebook(phonebook):\n",
        "  for name in phonebook:\n",
        "    print(f\"{str(name)}-->{str(phonebook[name])}\")\n",
        "\n",
        "def get_by_name(phonebook):\n",
        "\n",
        "  while True:\n",
        "    name=input(\"Enter name to search: \")\n",
        "    if name ==  \"\":\n",
        "      break\n",
        "    if name not in phonebook:\n",
        "      print(\"Name not found\")\n",
        "    else:\n",
        "      print(f\"{str(name)}-->{str(phonebook[name])}\")\n",
        "\n",
        "\n",
        "def main():\n",
        "  phonebook=get_phone_num()\n",
        "  print_phonebook(phonebook)\n",
        "  get_by_name(phonebook)\n",
        "\n",
        "if __name__ == \"__main__\":\n",
        "  main()\n",
        "\n"
      ]
    }
  ]
}