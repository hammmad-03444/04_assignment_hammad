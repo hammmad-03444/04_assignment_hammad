{
  "nbformat": 4,
  "nbformat_minor": 0,
  "metadata": {
    "colab": {
      "provenance": [],
      "authorship_tag": "ABX9TyPvg6YJjaEQGg89SihoIclO",
      "include_colab_link": true
    },
    "kernelspec": {
      "name": "python3",
      "display_name": "Python 3"
    },
    "language_info": {
      "name": "python"
    }
  },
  "cells": [
    {
      "cell_type": "markdown",
      "metadata": {
        "id": "view-in-github",
        "colab_type": "text"
      },
      "source": [
        "<a href=\"https://colab.research.google.com/github/hammmad-03444/04_assignment_hammad/blob/main/assignment_00-07/05_triangle_perimeter.ipynb\" target=\"_parent\"><img src=\"https://colab.research.google.com/assets/colab-badge.svg\" alt=\"Open In Colab\"/></a>"
      ]
    },
    {
      "cell_type": "code",
      "execution_count": 2,
      "metadata": {
        "colab": {
          "base_uri": "https://localhost:8080/"
        },
        "id": "Ai6Zqi3J-bi4",
        "outputId": "fcf8430c-23d7-4bea-bf55-83aad794f935"
      },
      "outputs": [
        {
          "output_type": "stream",
          "name": "stdout",
          "text": [
            "Enter the first side:5\n",
            "Enter the second side:5\n",
            "Enter the third side:3\n",
            "The perimeter of the triangle is 13\n"
          ]
        }
      ],
      "source": [
        "def main():\n",
        "  first_side:int=int(input(\"Enter the first side:\"))\n",
        "  second_side:int=int(input(\"Enter the second side:\"))\n",
        "  third_side:int=int(input(\"Enter the third side:\"))\n",
        "\n",
        "  perimeter_triangle:int=first_side+second_side+third_side\n",
        "\n",
        "  print(f\"The perimeter of the triangle is {perimeter_triangle}\")\n",
        "\n",
        "if __name__==\"__main__\":\n",
        "  main()\n",
        "\n",
        "\n",
        "\n",
        "\n",
        "\n",
        "\n",
        "\n",
        "\n",
        "\n",
        "\n",
        "\n"
      ]
    }
  ]
}