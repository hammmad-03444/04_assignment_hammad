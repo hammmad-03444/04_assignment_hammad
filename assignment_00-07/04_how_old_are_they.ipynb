{
  "nbformat": 4,
  "nbformat_minor": 0,
  "metadata": {
    "colab": {
      "provenance": [],
      "authorship_tag": "ABX9TyO1+SQnT5ipf+8qORWIHL9n",
      "include_colab_link": true
    },
    "kernelspec": {
      "name": "python3",
      "display_name": "Python 3"
    },
    "language_info": {
      "name": "python"
    }
  },
  "cells": [
    {
      "cell_type": "markdown",
      "metadata": {
        "id": "view-in-github",
        "colab_type": "text"
      },
      "source": [
        "<a href=\"https://colab.research.google.com/github/hammmad-03444/04_assignment_hammad/blob/main/assignment_00-07/how_old_are_they.ipynb\" target=\"_parent\"><img src=\"https://colab.research.google.com/assets/colab-badge.svg\" alt=\"Open In Colab\"/></a>"
      ]
    },
    {
      "cell_type": "code",
      "execution_count": 6,
      "metadata": {
        "colab": {
          "base_uri": "https://localhost:8080/"
        },
        "id": "CpZtmSE86CW3",
        "outputId": "7031ed11-e0c2-43bf-f312-7532a9b41afd"
      },
      "outputs": [
        {
          "output_type": "stream",
          "name": "stdout",
          "text": [
            "Anton is: 21\n",
            "Beth is: 27\n",
            "Chen is: 47\n",
            "Drew is: 68\n",
            "Ethan is: 47\n"
          ]
        }
      ],
      "source": [
        "def main():\n",
        "  anton:int=21\n",
        "  beth:int=anton+6\n",
        "  chen:int=beth+20\n",
        "  drew:int=chen+anton\n",
        "  ethan:int=chen\n",
        "\n",
        "\n",
        "  print(f\"Anton is: {anton}\")\n",
        "  print(f\"Beth is: {beth}\")\n",
        "  print(f\"Chen is: {chen}\")\n",
        "  print(f\"Drew is: {drew}\")\n",
        "  print(f\"Ethan is: {ethan}\")\n",
        "\n",
        "if __name__ == \"__main__\":\n",
        "    main()"
      ]
    }
  ]
}
